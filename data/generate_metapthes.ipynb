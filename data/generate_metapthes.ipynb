{
  "cells": [
    {
      "cell_type": "markdown",
      "metadata": {},
      "source": [
        "This notebook used for generating the meta pathes of `DTI-Net` dataset.\n",
        "\n",
        "Requierments:\n",
        "\n",
        "- Python version 3.9.10\n",
        "- dgl@1.1.1\n",
        "- torch@2.0.1"
      ]
    },
    {
      "cell_type": "markdown",
      "metadata": {},
      "source": [
        "# Pre-process the data and get the metapathes\n"
      ]
    },
    {
      "cell_type": "markdown",
      "metadata": {},
      "source": [
        "Section 1. Import the libraries."
      ]
    },
    {
      "cell_type": "code",
      "execution_count": 1,
      "metadata": {
        "colab": {
          "base_uri": "https://localhost:8080/"
        },
        "id": "2bcM0V7yjhmb",
        "outputId": "f6fa248c-9211-462f-af1f-77239a3e6291"
      },
      "outputs": [],
      "source": [
        "from math import*\n",
        "import pandas as pd\n",
        "import numpy as np\n",
        "import torch as th\n",
        "import dgl\n",
        "from pathlib import Path\n",
        "import pickle"
      ]
    },
    {
      "cell_type": "markdown",
      "metadata": {},
      "source": [
        "Define the data saving path."
      ]
    },
    {
      "cell_type": "code",
      "execution_count": 6,
      "metadata": {
        "id": "8Q6RFRUTzMxw"
      },
      "outputs": [],
      "source": [
        "ROOT_PATH = './DTINet/'\n",
        "SAVE_PREFIX = './metapathes/'\n",
        "Path(SAVE_PREFIX).mkdir(parents=True, exist_ok=True)"
      ]
    },
    {
      "cell_type": "markdown",
      "metadata": {},
      "source": [
        "Prepare the data and generate the graph of `DTI-Net` dataset"
      ]
    },
    {
      "cell_type": "code",
      "execution_count": 7,
      "metadata": {
        "id": "UnzZ2N23j1QA"
      },
      "outputs": [],
      "source": [
        "def load_data():\n",
        "    # read data as a numpy arrays\n",
        "    drug_drug = np.loadtxt(ROOT_PATH + 'mat_drug_drug.txt')\n",
        "    drug_disease = np.loadtxt(ROOT_PATH + 'mat_drug_disease.txt')\n",
        "    drug_protein = np.loadtxt(ROOT_PATH + 'mat_drug_protein.txt')\n",
        "    drug_protein_remove = np.loadtxt(\n",
        "        ROOT_PATH + 'mat_drug_protein_remove_homo.txt')\n",
        "    drug_se = np.loadtxt(ROOT_PATH + 'mat_drug_se.txt')\n",
        "    drug_similarity = np.loadtxt(ROOT_PATH + 'Similarity_Matrix_Drugs.txt')\n",
        "\n",
        "    protein_disease = np.loadtxt(ROOT_PATH + 'mat_protein_disease.txt')\n",
        "    protein_drug = np.loadtxt(ROOT_PATH + 'mat_protein_drug.txt')\n",
        "    protein_protein = np.loadtxt(ROOT_PATH + 'mat_protein_protein.txt')\n",
        "    protein_similarity = np.loadtxt(\n",
        "        ROOT_PATH + 'Similarity_Matrix_Proteins.txt')\n",
        "\n",
        "    drug_drug = pd.DataFrame(drug_drug)\n",
        "    drug_disease = pd.DataFrame(drug_disease)\n",
        "    drug_protein = pd.DataFrame(drug_protein)\n",
        "    drug_protein_remove = pd.DataFrame(drug_protein_remove)\n",
        "    drug_se = pd.DataFrame(drug_se)\n",
        "    drug_similarity = pd.DataFrame(drug_similarity)\n",
        "\n",
        "    protein_disease = pd.DataFrame(protein_disease)\n",
        "    protein_drug = pd.DataFrame(protein_drug)\n",
        "    protein_protein = pd.DataFrame(protein_protein)\n",
        "    protein_similarity = pd.DataFrame(protein_similarity)\n",
        "    protein_similarity = protein_similarity/100\n",
        "\n",
        "    drug_drug = pd.DataFrame(\n",
        "        np.array(np.where(drug_drug == 1)).T, columns=['Drug1', 'Drug2'])\n",
        "    drug_disease = pd.DataFrame(\n",
        "        np.array(np.where(drug_disease == 1)).T, columns=['Drug', 'Disease'])\n",
        "    drug_se = pd.DataFrame(\n",
        "        np.array(np.where(drug_se == 1)).T, columns=['Drug', 'Se'])\n",
        "    drug_similarity = pd.DataFrame(\n",
        "        np.array(np.where(drug_similarity>=0.7)).T, columns=['Drug1', 'Drug2'])\n",
        "    print(drug_similarity)\n",
        "    protein_disease = pd.DataFrame(\n",
        "        np.array(np.where(protein_disease == 1)).T, columns=['Protein', 'Disease'])\n",
        "    protein_protein = pd.DataFrame(\n",
        "        np.array(np.where(protein_protein == 1)).T, columns=['Protein1', 'Protein2'])\n",
        "    protein_similarity = pd.DataFrame(np.array(\n",
        "        np.where(protein_similarity>=0.7)).T, columns=['Protein1', 'Protein2'])\n",
        "\n",
        "    drug_protein = pd.DataFrame(\n",
        "        np.array(np.where(drug_protein == 1)).T, columns=['Drug', 'Protein'])\n",
        "\n",
        "    graph_data = {\n",
        "        ('drug', 'drug_drug', 'drug'): (th.tensor(drug_drug['Drug1'].values),\n",
        "                                        th.tensor(drug_drug['Drug2'].values)),\n",
        "        ('drug', 'drug_disease', 'disease'): (th.tensor(drug_disease['Drug'].values),\n",
        "                                              th.tensor(drug_disease['Disease'].values)),\n",
        "        ('drug', 'drug_protein', 'protein'): (th.tensor(drug_protein['Drug'].values),\n",
        "                                              th.tensor(drug_protein['Protein'].values)),\n",
        "        ('drug', 'drug_se', 'se'): (th.tensor(drug_se['Drug'].values),\n",
        "                                    th.tensor(drug_se['Se'].values)),\n",
        "        ('drug', 'drug_sim', 'drug'): (th.tensor(drug_similarity['Drug1'].values),\n",
        "                                       th.tensor(drug_similarity['Drug2'].values)),\n",
        "        ('protein', 'protein_disease', 'disease'): (th.tensor(protein_disease['Protein'].values),\n",
        "                                                    th.tensor(protein_disease['Disease'].values)),\n",
        "        ('protein', 'protein_protein', 'protein'): (th.tensor(protein_protein['Protein1'].values),\n",
        "                                                    th.tensor(protein_protein['Protein2'].values)),\n",
        "        ('protein', 'protein_sim', 'protein'): (th.tensor(protein_similarity['Protein1'].values),\n",
        "                                                th.tensor(protein_similarity['Protein2'].values))\n",
        "    }\n",
        "    g = dgl.heterograph(graph_data)\n",
        "    d_len = len(g.nodes('drug'))\n",
        "    p_len = len(g.nodes('protein'))\n",
        "    se_len = len(g.nodes('se'))\n",
        "    di_len = len(g.nodes('disease'))\n",
        "\n",
        "    dim = d_len + p_len + di_len + se_len\n",
        "\n",
        "    type_mask = np.zeros((dim), dtype=int)\n",
        "    type_mask[d_len:d_len+p_len] = 1\n",
        "    type_mask[d_len+p_len:d_len+p_len+se_len] = 2\n",
        "    type_mask[d_len+p_len+se_len:] = 3\n",
        "    return g, dim, type_mask\n"
      ]
    },
    {
      "cell_type": "markdown",
      "metadata": {},
      "source": [
        "Call load_data function defined above."
      ]
    },
    {
      "cell_type": "code",
      "execution_count": 8,
      "metadata": {
        "id": "cmZ7OCDmkOzH"
      },
      "outputs": [
        {
          "name": "stdout",
          "output_type": "stream",
          "text": [
            "      Drug1  Drug2\n",
            "0         0      0\n",
            "1         1      1\n",
            "2         2      2\n",
            "3         3      3\n",
            "4         3     40\n",
            "...     ...    ...\n",
            "1949    705    705\n",
            "1950    706    706\n",
            "1951    707    163\n",
            "1952    707    538\n",
            "1953    707    707\n",
            "\n",
            "[1954 rows x 2 columns]\n"
          ]
        }
      ],
      "source": [
        "# create a graph and get dim\n",
        "adjMat, dim, type_mask = load_data()\n"
      ]
    },
    {
      "cell_type": "markdown",
      "metadata": {},
      "source": [
        "# Helper function defination."
      ]
    },
    {
      "cell_type": "code",
      "execution_count": 9,
      "metadata": {
        "id": "LcqTede4sIrM"
      },
      "outputs": [],
      "source": [
        "def getMetaPathSemetric3(edgeKey, innerNodeKey, outerKey, rev=False):\n",
        "    if rev == True:\n",
        "        inKey = outerKey\n",
        "    else:\n",
        "        inKey = innerNodeKey\n",
        "    edges = adjMat.edges(etype=edgeKey)\n",
        "    innerLength = len(adjMat.nodes(inKey))\n",
        "    res = {}\n",
        "    for i in range(innerLength):\n",
        "        res[i] = []\n",
        "    for id in range(len(edges[1])):\n",
        "        inner = edges[1][id]\n",
        "        outer = edges[0][id]\n",
        "        res[int(inner)].append(int(outer))\n",
        "    return res\n"
      ]
    },
    {
      "cell_type": "code",
      "execution_count": 10,
      "metadata": {},
      "outputs": [],
      "source": [
        "def check(m_dict, i, j):\n",
        "    for k in m_dict.keys():\n",
        "        if i in m_dict[k] and j in m_dict[k]:\n",
        "            return True, k\n",
        "    return False, None\n"
      ]
    },
    {
      "cell_type": "code",
      "execution_count": 11,
      "metadata": {},
      "outputs": [],
      "source": [
        "def generate_metapath_adj(ename, innerNode, outerNode, filename, rev=False):\n",
        "    dict_oio = getMetaPathSemetric3(ename, innerNode, outerNode, rev)\n",
        "    l = len(adjMat.nodes(outerNode))\n",
        "    oio = []\n",
        "    for i in range(l):\n",
        "        for j in range(l):\n",
        "            b, k = check(dict_oio, i, j)\n",
        "            if b:\n",
        "                oio.append([i, k, j])\n",
        "    oio = np.array(oio)\n",
        "    sorted_index1 = sorted(list(range(len(oio))),\n",
        "                           key=lambda i: oio[i, [2, 1, 0]].tolist())\n",
        "    sorted_index2 = sorted(list(range(len(oio))),\n",
        "                           key=lambda i: oio[i, [0, 2, 1]].tolist())\n",
        "    temp = oio[sorted_index1]\n",
        "    target = {}\n",
        "    with open(SAVE_PREFIX + filename+\".idx\", 'wb') as out_file:\n",
        "        left = 0\n",
        "        right = 0\n",
        "        for nodeId in range(l):\n",
        "            while right < len(temp) and temp[right, 2] == nodeId:\n",
        "                right += 1\n",
        "            target[nodeId] = temp[left:right, :]\n",
        "            left = right\n",
        "        pickle.dump(target, out_file)\n",
        "    generate_neighbour(oio, sorted_index2, filename, l)\n",
        "\n",
        "\n",
        "def generate_path_adj(source,edgeName,filename):\n",
        "    edges = adjMat.edges(etype=edgeName)\n",
        "    l = len(adjMat.nodes(source))\n",
        "    oio = []\n",
        "    for i in range(len(edges[0])):\n",
        "        src = edges[0][i]\n",
        "        dst = edges[1][i]\n",
        "        oio.append([src, dst])\n",
        "    oio = np.array(oio)\n",
        "    sorted_index1 = sorted(list(range(len(oio))),\n",
        "                          key=lambda i: oio[i, [1, 0]].tolist())\n",
        "    sorted_index2 = sorted(list(range(len(oio))),\n",
        "                          key=lambda i: oio[i, [0,1]].tolist())\n",
        "    temp = oio[sorted_index1]\n",
        "    target = {}\n",
        "    with open(SAVE_PREFIX + filename+'.idx', 'wb') as out_file:\n",
        "        left = 0\n",
        "        right = 0\n",
        "        for nodeId in range(l):\n",
        "            while right < len(temp) and temp[right, 1] == nodeId:\n",
        "                right += 1\n",
        "            target[nodeId] = temp[left:right, :]\n",
        "            left = right\n",
        "        pickle.dump(target, out_file)\n",
        "    generate_neighbour(oio,sorted_index2,filename, l)\n",
        "\n",
        "def generate_neighbour(oio, sortedIndex, fileName, l):\n",
        "    oio = oio[sortedIndex]\n",
        "    with open(SAVE_PREFIX + fileName+'.adjlist', 'w') as out_file:\n",
        "        left = 0\n",
        "        right = 0\n",
        "        for nodeId in range(l):\n",
        "            while right < len(oio) and oio[right, 0] == nodeId:\n",
        "                right += 1\n",
        "            neighbors = oio[left:right, -1]\n",
        "            neighbors = list(map(str, neighbors))\n",
        "            if len(neighbors) > 0:\n",
        "                out_file.write('{} '.format(nodeId) +\n",
        "                               ' '.join(neighbors) + '\\n')\n",
        "            else:\n",
        "                out_file.write('{}\\n'.format(nodeId))\n",
        "            left = right\n"
      ]
    },
    {
      "cell_type": "markdown",
      "metadata": {},
      "source": [
        "# Drug Drug (sim) meta-path generation"
      ]
    },
    {
      "cell_type": "markdown",
      "metadata": {},
      "source": [
        "This cell computes the metapathes of the drug and drug based on similarity.\n",
        "\n",
        "This cell's output is in the format of $[d_i , d_j]$"
      ]
    },
    {
      "cell_type": "code",
      "execution_count": 13,
      "metadata": {},
      "outputs": [],
      "source": [
        "generate_path_adj('drug','drug_sim','d_d_sim')"
      ]
    },
    {
      "cell_type": "markdown",
      "metadata": {},
      "source": [
        "# Drug Drug meta-path generation"
      ]
    },
    {
      "cell_type": "code",
      "execution_count": 14,
      "metadata": {},
      "outputs": [],
      "source": [
        "generate_path_adj('drug','drug_drug','d_d')"
      ]
    },
    {
      "cell_type": "markdown",
      "metadata": {},
      "source": [
        "# Protein Protein meta-path generation"
      ]
    },
    {
      "cell_type": "markdown",
      "metadata": {},
      "source": [
        "This cell computes the metapathes of the drug and drug based on similarity.\n",
        "\n",
        "This cell's output is in the format of $[d_i , d_j]$"
      ]
    },
    {
      "cell_type": "code",
      "execution_count": 15,
      "metadata": {},
      "outputs": [],
      "source": [
        "generate_path_adj('protein','protein_protein', \"p_p\")"
      ]
    },
    {
      "cell_type": "markdown",
      "metadata": {},
      "source": [
        "# Protein Protein (sim) meta-path generation"
      ]
    },
    {
      "cell_type": "markdown",
      "metadata": {},
      "source": [
        "This cell computes the metapathes of the drug and drug based on similarity.\n",
        "\n",
        "This cell's output is in the format of $[d_i , d_j]$"
      ]
    },
    {
      "cell_type": "code",
      "execution_count": 16,
      "metadata": {},
      "outputs": [],
      "source": [
        "generate_path_adj('protein','protein_sim', \"p_p_sim\")"
      ]
    },
    {
      "cell_type": "markdown",
      "metadata": {},
      "source": [
        "# Drug Protein meta-path generation"
      ]
    },
    {
      "cell_type": "markdown",
      "metadata": {},
      "source": [
        "This cell computes the metapathes of the drug and drug based on protein.\n",
        "\n",
        "This cell's output is in the format of $[d_i ,p_k, d_j]$"
      ]
    },
    {
      "cell_type": "code",
      "execution_count": 17,
      "metadata": {},
      "outputs": [],
      "source": [
        "generate_metapath_adj('drug_protein', 'protein', 'drug','d_p_d')"
      ]
    },
    {
      "cell_type": "markdown",
      "metadata": {},
      "source": [
        "# Drug Side effect meta-path generation"
      ]
    },
    {
      "cell_type": "markdown",
      "metadata": {},
      "source": [
        "This cell computes the metapathes of the drug and drug based on side effect.\n",
        "\n"
      ]
    },
    {
      "cell_type": "code",
      "execution_count": 18,
      "metadata": {},
      "outputs": [],
      "source": [
        "generate_metapath_adj('drug_se', 'se', 'drug','d_se_d')"
      ]
    },
    {
      "cell_type": "markdown",
      "metadata": {},
      "source": [
        "# Drug Disease meta-path generation"
      ]
    },
    {
      "cell_type": "markdown",
      "metadata": {},
      "source": [
        "This cell computes the metapathes of the drug and drug based on disease.\n",
        "\n",
        "This cell's output is in the format of $[d_i ,di_k, d_j]$"
      ]
    },
    {
      "cell_type": "code",
      "execution_count": 19,
      "metadata": {},
      "outputs": [],
      "source": [
        "generate_metapath_adj('drug_disease', 'disease', 'drug','d_di_d')"
      ]
    },
    {
      "cell_type": "markdown",
      "metadata": {},
      "source": [
        "# Protein Drug meta-path generation"
      ]
    },
    {
      "cell_type": "markdown",
      "metadata": {},
      "source": [
        "This cell computes the metapathes of the drug and drug based on protein.\n",
        "\n",
        "This cell's output is in the format of $[d_i ,p_k, d_j]$"
      ]
    },
    {
      "cell_type": "code",
      "execution_count": 20,
      "metadata": {},
      "outputs": [],
      "source": [
        "generate_metapath_adj('drug_protein', 'drug', 'protein','p_dr_p',True)"
      ]
    },
    {
      "cell_type": "markdown",
      "metadata": {},
      "source": [
        "# Protein Disease meta-path generation"
      ]
    },
    {
      "cell_type": "markdown",
      "metadata": {},
      "source": [
        "This cell computes the metapathes of the drug and drug based on protein.\n",
        "\n",
        "This cell's output is in the format of $[d_i ,p_k, d_j]$"
      ]
    },
    {
      "cell_type": "code",
      "execution_count": 21,
      "metadata": {},
      "outputs": [],
      "source": [
        "generate_metapath_adj('protein_disease', 'disease', 'protein','p_di_p')"
      ]
    }
  ],
  "metadata": {
    "accelerator": "GPU",
    "colab": {
      "collapsed_sections": [],
      "name": "generate metapthes.ipynb",
      "provenance": []
    },
    "gpuClass": "standard",
    "interpreter": {
      "hash": "2e8a70ff509180cd461f8e567e7b47801852378debe90c74b986572344239d58"
    },
    "kernelspec": {
      "display_name": "Python 3.9.13 64-bit",
      "language": "python",
      "name": "python3"
    },
    "language_info": {
      "codemirror_mode": {
        "name": "ipython",
        "version": 3
      },
      "file_extension": ".py",
      "mimetype": "text/x-python",
      "name": "python",
      "nbconvert_exporter": "python",
      "pygments_lexer": "ipython3",
      "version": "3.9.10"
    },
    "vscode": {
      "interpreter": {
        "hash": "0b45592fad458088dfd524360ec8a91bc1b2f4c447a50f234ad02f86e2533448"
      }
    }
  },
  "nbformat": 4,
  "nbformat_minor": 0
}
